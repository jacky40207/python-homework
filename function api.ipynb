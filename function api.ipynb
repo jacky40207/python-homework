{
 "cells": [
  {
   "cell_type": "code",
   "execution_count": 1,
   "metadata": {},
   "outputs": [
    {
     "name": "stderr",
     "output_type": "stream",
     "text": [
      "Using TensorFlow backend.\n"
     ]
    }
   ],
   "source": [
    "%matplotlib inline\n",
    "\n",
    "import numpy as np\n",
    "import matplotlib.pyplot as plt\n",
    "from keras.datasets import mnist\n",
    "(x_train, y_train), (x_test, y_test) = mnist.load_data()"
   ]
  },
  {
   "cell_type": "code",
   "execution_count": 2,
   "metadata": {},
   "outputs": [],
   "source": [
    "x_train = x_train.reshape(60000, 784)\n",
    "x_test = x_test.reshape(10000, 784)"
   ]
  },
  {
   "cell_type": "code",
   "execution_count": 3,
   "metadata": {},
   "outputs": [
    {
     "name": "stdout",
     "output_type": "stream",
     "text": [
      "(60000, 784) (10000, 784)\n"
     ]
    }
   ],
   "source": [
    "print(x_train.shape,x_test.shape)"
   ]
  },
  {
   "cell_type": "code",
   "execution_count": 4,
   "metadata": {},
   "outputs": [],
   "source": [
    "from keras.utils import np_utils\n",
    "y_train = np_utils.to_categorical(y_train, 10)\n",
    "y_test = np_utils.to_categorical(y_test, 10)"
   ]
  },
  {
   "cell_type": "code",
   "execution_count": 5,
   "metadata": {},
   "outputs": [
    {
     "name": "stderr",
     "output_type": "stream",
     "text": [
      "C:\\Users\\superman\\Anaconda3\\lib\\site-packages\\sklearn\\utils\\validation.py:595: DataConversionWarning: Data with input dtype uint8 was converted to float64 by MinMaxScaler.\n",
      "  warnings.warn(msg, DataConversionWarning)\n",
      "C:\\Users\\superman\\Anaconda3\\lib\\site-packages\\sklearn\\utils\\validation.py:595: DataConversionWarning: Data with input dtype uint8 was converted to float64 by MinMaxScaler.\n",
      "  warnings.warn(msg, DataConversionWarning)\n"
     ]
    }
   ],
   "source": [
    "from sklearn.preprocessing import MinMaxScaler\n",
    "sc = MinMaxScaler(feature_range = (0, 1))\n",
    "x_train_scaled = sc.fit_transform(x_train)\n",
    "x_test_scaled = sc.fit_transform(x_test)"
   ]
  },
  {
   "cell_type": "code",
   "execution_count": 6,
   "metadata": {},
   "outputs": [
    {
     "name": "stdout",
     "output_type": "stream",
     "text": [
      "WARNING:tensorflow:From C:\\Users\\superman\\Anaconda3\\lib\\site-packages\\tensorflow\\python\\framework\\op_def_library.py:263: colocate_with (from tensorflow.python.framework.ops) is deprecated and will be removed in a future version.\n",
      "Instructions for updating:\n",
      "Colocations handled automatically by placer.\n",
      "__________________________________________________________________________________________________\n",
      "Layer (type)                    Output Shape         Param #     Connected to                     \n",
      "==================================================================================================\n",
      "input_1 (InputLayer)            (None, 784)          0                                            \n",
      "__________________________________________________________________________________________________\n",
      "dense_7 (Dense)                 (None, 300)          235500      input_1[0][0]                    \n",
      "__________________________________________________________________________________________________\n",
      "dense_1 (Dense)                 (None, 100)          78500       input_1[0][0]                    \n",
      "__________________________________________________________________________________________________\n",
      "dense_5 (Dense)                 (None, 200)          157000      input_1[0][0]                    \n",
      "__________________________________________________________________________________________________\n",
      "dense_4 (Dense)                 (None, 100)          30100       dense_7[0][0]                    \n",
      "__________________________________________________________________________________________________\n",
      "concatenate_1 (Concatenate)     (None, 700)          0           dense_1[0][0]                    \n",
      "                                                                 dense_5[0][0]                    \n",
      "                                                                 dense_7[0][0]                    \n",
      "                                                                 dense_4[0][0]                    \n",
      "__________________________________________________________________________________________________\n",
      "dense_2 (Dense)                 (None, 100)          70100       concatenate_1[0][0]              \n",
      "__________________________________________________________________________________________________\n",
      "dense_8 (Dense)                 (None, 300)          30300       dense_2[0][0]                    \n",
      "__________________________________________________________________________________________________\n",
      "dense_10 (Dense)                (None, 400)          314000      input_1[0][0]                    \n",
      "__________________________________________________________________________________________________\n",
      "dense_9 (Dense)                 (None, 300)          90300       dense_8[0][0]                    \n",
      "__________________________________________________________________________________________________\n",
      "concatenate_2 (Concatenate)     (None, 1884)         0           dense_2[0][0]                    \n",
      "                                                                 dense_10[0][0]                   \n",
      "                                                                 input_1[0][0]                    \n",
      "                                                                 dense_8[0][0]                    \n",
      "                                                                 dense_9[0][0]                    \n",
      "__________________________________________________________________________________________________\n",
      "dense_11 (Dense)                (None, 10)           18850       concatenate_2[0][0]              \n",
      "==================================================================================================\n",
      "Total params: 1,024,650\n",
      "Trainable params: 1,024,650\n",
      "Non-trainable params: 0\n",
      "__________________________________________________________________________________________________\n"
     ]
    }
   ],
   "source": [
    "from keras.layers import Dense, Input, concatenate\n",
    "from keras.models import Model\n",
    "x = Input(shape=(784,))\n",
    "a=Dense(100, activation='relu')\n",
    "a1=Dense(100, activation='relu')\n",
    "a2=Dense(100, activation='relu')\n",
    "a3=Dense(100, activation='relu')\n",
    "b=Dense(200, activation='relu')\n",
    "b1=Dense(200, activation='relu')\n",
    "c=Dense(300, activation='relu')\n",
    "c1=Dense(300, activation='relu')\n",
    "c2=Dense(300, activation='relu')\n",
    "d=Dense(400, activation='relu')\n",
    "o=Dense(10, activation='softmax')\n",
    "\n",
    "l1=a(x)\n",
    "l2=b(x)\n",
    "l3=c(x)\n",
    "n3=d(x)\n",
    "l4=a3(l3)\n",
    "m1=a1(concatenate([l1,l2,l3,l4]))\n",
    "p1=c1(m1)\n",
    "p2=c2(p1)\n",
    "y=o(concatenate([m1,n3,x,p1,p2]))\n",
    "\n",
    "model = Model(x,y)\n",
    "model.compile(loss='categorical_crossentropy', optimizer='adam', metrics=['accuracy'])\n",
    "model.summary()"
   ]
  },
  {
   "cell_type": "code",
   "execution_count": 7,
   "metadata": {},
   "outputs": [],
   "source": [
    "from keras.utils.vis_utils import plot_model\n",
    "plot_model(model, to_file='model_mnis.png', show_shapes=True, show_layer_names=True)"
   ]
  },
  {
   "cell_type": "markdown",
   "metadata": {},
   "source": [
    "![title](model_mnist.png)"
   ]
  },
  {
   "cell_type": "code",
   "execution_count": 8,
   "metadata": {
    "scrolled": true
   },
   "outputs": [
    {
     "name": "stdout",
     "output_type": "stream",
     "text": [
      "WARNING:tensorflow:From C:\\Users\\superman\\Anaconda3\\lib\\site-packages\\tensorflow\\python\\ops\\math_ops.py:3066: to_int32 (from tensorflow.python.ops.math_ops) is deprecated and will be removed in a future version.\n",
      "Instructions for updating:\n",
      "Use tf.cast instead.\n",
      "Epoch 1/20\n",
      "60000/60000 [==============================] - 13s 218us/step - loss: 8.4344 - acc: 0.4749\n",
      "Epoch 2/20\n",
      "60000/60000 [==============================] - 12s 193us/step - loss: 7.2248 - acc: 0.5510\n",
      "Epoch 3/20\n",
      "60000/60000 [==============================] - 11s 187us/step - loss: 7.1173 - acc: 0.5577\n",
      "Epoch 4/20\n",
      "60000/60000 [==============================] - 11s 184us/step - loss: 6.9304 - acc: 0.5697\n",
      "Epoch 5/20\n",
      "60000/60000 [==============================] - 11s 190us/step - loss: 7.0932 - acc: 0.5595\n",
      "Epoch 6/20\n",
      "60000/60000 [==============================] - 11s 186us/step - loss: 6.9260 - acc: 0.5700\n",
      "Epoch 7/20\n",
      "60000/60000 [==============================] - 11s 184us/step - loss: 6.3924 - acc: 0.6028\n",
      "Epoch 8/20\n",
      "60000/60000 [==============================] - 13s 224us/step - loss: 5.7418 - acc: 0.6434\n",
      "Epoch 9/20\n",
      "60000/60000 [==============================] - 12s 193us/step - loss: 5.5558 - acc: 0.6549\n",
      "Epoch 10/20\n",
      "60000/60000 [==============================] - 11s 185us/step - loss: 5.4240 - acc: 0.6632\n",
      "Epoch 11/20\n",
      "60000/60000 [==============================] - 11s 188us/step - loss: 5.3942 - acc: 0.6651\n",
      "Epoch 12/20\n",
      "60000/60000 [==============================] - 11s 188us/step - loss: 5.4384 - acc: 0.6624\n",
      "Epoch 13/20\n",
      "60000/60000 [==============================] - 11s 189us/step - loss: 5.3799 - acc: 0.6660\n",
      "Epoch 14/20\n",
      "60000/60000 [==============================] - 12s 200us/step - loss: 5.3095 - acc: 0.6704\n",
      "Epoch 15/20\n",
      "60000/60000 [==============================] - 12s 198us/step - loss: 5.2371 - acc: 0.6749\n",
      "Epoch 16/20\n",
      "60000/60000 [==============================] - 11s 184us/step - loss: 5.2212 - acc: 0.67591s -\n",
      "Epoch 17/20\n",
      "60000/60000 [==============================] - 11s 182us/step - loss: 5.3019 - acc: 0.6709\n",
      "Epoch 18/20\n",
      "60000/60000 [==============================] - 11s 185us/step - loss: 5.2779 - acc: 0.6725\n",
      "Epoch 19/20\n",
      "60000/60000 [==============================] - 11s 185us/step - loss: 5.5064 - acc: 0.6583\n",
      "Epoch 20/20\n",
      "60000/60000 [==============================] - 11s 187us/step - loss: 5.4122 - acc: 0.66411s - loss: 5.4\n"
     ]
    }
   ],
   "source": [
    "model_his=model.fit(x_train, y_train, batch_size=100, epochs=20)"
   ]
  },
  {
   "cell_type": "code",
   "execution_count": 9,
   "metadata": {},
   "outputs": [
    {
     "name": "stdout",
     "output_type": "stream",
     "text": [
      "60000/60000 [==============================] - 2s 41us/step\n",
      "Loss: 5.248127\n",
      "準確率: 67.426667\n"
     ]
    }
   ],
   "source": [
    "score = model.evaluate(x_train, y_train, batch_size=10000)\n",
    "print(\"Loss: %f\" %score[0])\n",
    "print(\"準確率: %f\" %(score[1]*100))"
   ]
  },
  {
   "cell_type": "code",
   "execution_count": 10,
   "metadata": {},
   "outputs": [
    {
     "data": {
      "image/png": "[encoded data removed]",
      "text/plain": [
       "<Figure size 432x288 with 1 Axes>"
      ]
     },
     "metadata": {
      "needs_background": "light"
     },
     "output_type": "display_data"
    }
   ],
   "source": [
    "plt.plot(model_his.history['acc'])\n",
    "plt.title(\"accuracy\")\n",
    "plt.xlabel(\"epochs\")\n",
    "plt.ylabel(\"accuracy\")\n",
    "plt.show()"
   ]
  },
  {
   "cell_type": "code",
   "execution_count": null,
   "metadata": {},
   "outputs": [],
   "source": []
  }
 ],
 "metadata": {
  "kernelspec": {
   "display_name": "Python 3",
   "language": "python",
   "name": "python3"
  },
  "language_info": {
   "codemirror_mode": {
    "name": "ipython",
    "version": 3
   },
   "file_extension": ".py",
   "mimetype": "text/x-python",
   "name": "python",
   "nbconvert_exporter": "python",
   "pygments_lexer": "ipython3",
   "version": "3.7.1"
  }
 },
 "nbformat": 4,
 "nbformat_minor": 2
}
