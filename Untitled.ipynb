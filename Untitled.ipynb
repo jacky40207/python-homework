{
 "cells": [
  {
   "cell_type": "markdown",
   "metadata": {},
   "source": [
    "# 個股漲跌預測\n",
    "## 組員:R07525071 洪瑞昕 R07525100 鐘顥瑋\t"
   ]
  },
  {
   "cell_type": "markdown",
   "metadata": {},
   "source": [
    "## 資料從YAHOO下載\n",
    "### 取2019前的資料作為train data，其中取10%作為validation data，2019以後的資料作為test data"
   ]
  },
  {
   "cell_type": "markdown",
   "metadata": {},
   "source": [
    "![title](擷取.PNG)"
   ]
  },
  {
   "cell_type": "markdown",
   "metadata": {},
   "source": [
    "# 目標是能預測測股的盤後調整價"
   ]
  },
  {
   "cell_type": "markdown",
   "metadata": {},
   "source": [
    "##  ~5/24 了解股票技術面參考的資料，資料整理。\n",
    "\n",
    "##  5/24~5/31 設計並訓練各式模型(目前打算做LSTM,CNN,LSTM+CNN)。\n",
    "\n",
    "##  5/31~6/2 改善預測結果。(進度超前的話)加其他input，並用XGboost做特徵重要性分析\n",
    "\n",
    "##  6/2~6/6 彙整結果並撰寫期末專案報告"
   ]
  },
  {
   "cell_type": "markdown",
   "metadata": {},
   "source": [
    "# 目前進度\n",
    "# 資料整理完成，已經開始建構LSTM模型及CNN模型"
   ]
  },
  {
   "cell_type": "code",
   "execution_count": null,
   "metadata": {},
   "outputs": [],
   "source": []
  }
 ],
 "metadata": {
  "kernelspec": {
   "display_name": "Python 3",
   "language": "python",
   "name": "python3"
  },
  "language_info": {
   "codemirror_mode": {
    "name": "ipython",
    "version": 3
   },
   "file_extension": ".py",
   "mimetype": "text/x-python",
   "name": "python",
   "nbconvert_exporter": "python",
   "pygments_lexer": "ipython3",
   "version": "3.7.3"
  }
 },
 "nbformat": 4,
 "nbformat_minor": 2
}
